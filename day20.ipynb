{
 "cells": [
  {
   "cell_type": "code",
   "execution_count": null,
   "id": "623fb283",
   "metadata": {},
   "outputs": [],
   "source": [
    "s=input()\n",
    "print(\"Palindrome\" if s==s[::-1] else \"Not Palindrome\")\n"
   ]
  }
 ],
 "metadata": {
  "language_info": {
   "name": "python"
  }
 },
 "nbformat": 4,
 "nbformat_minor": 5
}
