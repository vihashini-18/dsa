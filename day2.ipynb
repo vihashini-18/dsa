{
 "cells": [
  {
   "cell_type": "code",
   "execution_count": null,
   "id": "b00831e4",
   "metadata": {},
   "outputs": [],
   "source": [
    "age = int(input(\"Enter your age: \"))\n",
    "if age < 18:\n",
    "    print(\"minor.\")\n",
    "elif age < 60:\n",
    "    print(\"adult.\")\n",
    "else:\n",
    "    print(\"senior citizen.\")\n"
   ]
  },
  {
   "cell_type": "code",
   "execution_count": null,
   "id": "9de43e9b",
   "metadata": {},
   "outputs": [],
   "source": [
    "day = input(\"Enter a day: \").lower()\n",
    "match day:\n",
    "    case \"monday\":\n",
    "        print(\"Start of the week\")\n",
    "    case \"saturday\" | \"sunday\":\n",
    "        print(\"Weekend\")\n",
    "    case _:\n",
    "        print(\"weekday.\")\n"
   ]
  }
 ],
 "metadata": {
  "language_info": {
   "name": "python"
  }
 },
 "nbformat": 4,
 "nbformat_minor": 5
}
