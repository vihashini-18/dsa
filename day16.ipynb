{
 "cells": [
  {
   "cell_type": "code",
   "execution_count": null,
   "id": "83e2ac07",
   "metadata": {},
   "outputs": [],
   "source": [
    "n=int(input())\n",
    "print(n*(n+1)//2)\n"
   ]
  }
 ],
 "metadata": {
  "language_info": {
   "name": "python"
  }
 },
 "nbformat": 4,
 "nbformat_minor": 5
}
