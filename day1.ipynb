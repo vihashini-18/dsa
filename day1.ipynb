{
 "cells": [
  {
   "cell_type": "code",
   "execution_count": null,
   "id": "15447312",
   "metadata": {},
   "outputs": [],
   "source": [
    "num = int(input(\"Enter any whole number: \"))\n",
    "print(num * 2)\n"
   ]
  },
  {
   "cell_type": "code",
   "execution_count": null,
   "id": "c32e70c2",
   "metadata": {},
   "outputs": [],
   "source": [
    "price = float(input(\"Enter the price of an item: \"))\n",
    "print( price * 1.1)\n"
   ]
  },
  {
   "cell_type": "code",
   "execution_count": null,
   "id": "ca157ad1",
   "metadata": {},
   "outputs": [],
   "source": [
    "city = input(\"Enter your city name: \")\n",
    "print(city, \"is a wonderful place!\")\n"
   ]
  },
  {
   "cell_type": "code",
   "execution_count": null,
   "id": "2a79594e",
   "metadata": {},
   "outputs": [],
   "source": [
    "items = input(\"Enter three fruits\").split()\n",
    "print(items)\n"
   ]
  },
  {
   "cell_type": "code",
   "execution_count": null,
   "id": "fbd16d96",
   "metadata": {},
   "outputs": [],
   "source": []
  }
 ],
 "metadata": {
  "kernelspec": {
   "display_name": "base",
   "language": "python",
   "name": "python3"
  },
  "language_info": {
   "codemirror_mode": {
    "name": "ipython",
    "version": 3
   },
   "file_extension": ".py",
   "mimetype": "text/x-python",
   "name": "python",
   "nbconvert_exporter": "python",
   "pygments_lexer": "ipython3",
   "version": "3.13.5"
  }
 },
 "nbformat": 4,
 "nbformat_minor": 5
}
