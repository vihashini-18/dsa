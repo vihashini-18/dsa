{
 "cells": [
  {
   "cell_type": "code",
   "execution_count": null,
   "id": "e2fd4d43",
   "metadata": {},
   "outputs": [],
   "source": [
    "n=int(input())\n",
    "if n>1 and all(n%i!=0 for i in range(2,int(n**0.5)+1)):\n",
    "    print(\"Prime\")\n",
    "else:\n",
    "    print(\"Not Prime\")\n"
   ]
  }
 ],
 "metadata": {
  "language_info": {
   "name": "python"
  }
 },
 "nbformat": 4,
 "nbformat_minor": 5
}
