{
 "cells": [
  {
   "cell_type": "code",
   "execution_count": null,
   "id": "16fd38ea",
   "metadata": {},
   "outputs": [],
   "source": [
    "def fib(n):\n",
    "    if n<=1:return n\n",
    "    return fib(n-1)+fib(n-2)\n",
    "n=int(input())\n",
    "print(fib(n))\n"
   ]
  }
 ],
 "metadata": {
  "language_info": {
   "name": "python"
  }
 },
 "nbformat": 4,
 "nbformat_minor": 5
}
