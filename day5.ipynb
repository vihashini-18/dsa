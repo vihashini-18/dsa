{
 "cells": [
  {
   "cell_type": "code",
   "execution_count": 1,
   "id": "db1224eb",
   "metadata": {},
   "outputs": [
    {
     "name": "stdout",
     "output_type": "stream",
     "text": [
      "5\n"
     ]
    }
   ],
   "source": [
    "def change_num(x):\n",
    "    x = x + 10\n",
    "\n",
    "n = 5\n",
    "change_num(n)\n",
    "print(n) "
   ]
  },
  {
   "cell_type": "code",
   "execution_count": 2,
   "id": "8624b47e",
   "metadata": {},
   "outputs": [
    {
     "name": "stdout",
     "output_type": "stream",
     "text": [
      "[1, 2, 3, 99]\n"
     ]
    }
   ],
   "source": [
    "def add_item(lst):\n",
    "    lst.append(99)\n",
    "\n",
    "nums = [1, 2, 3]\n",
    "add_item(nums)\n",
    "print(nums)"
   ]
  }
 ],
 "metadata": {
  "kernelspec": {
   "display_name": "base",
   "language": "python",
   "name": "python3"
  },
  "language_info": {
   "codemirror_mode": {
    "name": "ipython",
    "version": 3
   },
   "file_extension": ".py",
   "mimetype": "text/x-python",
   "name": "python",
   "nbconvert_exporter": "python",
   "pygments_lexer": "ipython3",
   "version": "3.13.5"
  }
 },
 "nbformat": 4,
 "nbformat_minor": 5
}
