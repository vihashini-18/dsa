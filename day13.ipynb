def rec(n):
    if n==0:return
    print("YourName")
    rec(n-1)
n=int(input())
rec(n)
