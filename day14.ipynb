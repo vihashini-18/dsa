{
 "cells": [
  {
   "cell_type": "code",
   "execution_count": null,
   "id": "1a3561c6",
   "metadata": {},
   "outputs": [],
   "source": [
    "def rec(i,n):\n",
    "    if i>n:return\n",
    "    print(i)\n",
    "    rec(i+1,n)\n",
    "n=int(input())\n",
    "rec(1,n)\n"
   ]
  }
 ],
 "metadata": {
  "language_info": {
   "name": "python"
  }
 },
 "nbformat": 4,
 "nbformat_minor": 5
}
