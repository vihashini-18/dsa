{
 "cells": [
  {
   "cell_type": "code",
   "execution_count": null,
   "id": "79dca139",
   "metadata": {},
   "outputs": [],
   "source": [
    "n = int(input(\"Enter number: \"))\n",
    "s = sum(int(d)**len(str(n)) for d in str(n))\n",
    "print(\"Armstrong\" if s == n else \"Not Armstrong\")\n"
   ]
  }
 ],
 "metadata": {
  "language_info": {
   "name": "python"
  }
 },
 "nbformat": 4,
 "nbformat_minor": 5
}
