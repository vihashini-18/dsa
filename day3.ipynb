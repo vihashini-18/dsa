{
 "cells": [
  {
   "cell_type": "code",
   "execution_count": null,
   "id": "bda7e634",
   "metadata": {},
   "outputs": [],
   "source": [
    "numbers = [12, 45, 3, 67, 23]\n",
    "largest = numbers[0]\n",
    "\n",
    "for num in numbers:\n",
    "    if num > largest:\n",
    "        largest = num\n",
    "\n",
    "print(\"large num\", largest)\n"
   ]
  },
  {
   "cell_type": "code",
   "execution_count": null,
   "id": "8baf563c",
   "metadata": {},
   "outputs": [],
   "source": [
    "word = input(\" \")\n",
    "count = 0\n",
    "for ch in word.lower():\n",
    "    if ch in \"aeiou\":\n",
    "        count += 1\n",
    "\n",
    "print(count)"
   ]
  }
 ],
 "metadata": {
  "language_info": {
   "name": "python"
  }
 },
 "nbformat": 4,
 "nbformat_minor": 5
}
