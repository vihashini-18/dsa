{
 "cells": [
  {
   "cell_type": "code",
   "execution_count": null,
   "id": "85bf6d7b",
   "metadata": {},
   "outputs": [],
   "source": [
    "n=int(input())\n",
    "n=str(n)\n",
    "r=int(n[::-1])\n",
    "if (n==r):\n",
    "  print('Palindrome')\n",
    "else:\n",
    "  print('Not a palindrome')"
   ]
  },
  {
   "cell_type": "code",
   "execution_count": null,
   "id": "759a8996",
   "metadata": {},
   "outputs": [],
   "source": [
    "\n",
    "import math\n",
    "num1=int(input())\n",
    "num2=int(input())\n",
    "hcf=math.gcd(num1,num2)\n",
    "print(hcf)"
   ]
  }
 ],
 "metadata": {
  "language_info": {
   "name": "python"
  }
 },
 "nbformat": 4,
 "nbformat_minor": 5
}
