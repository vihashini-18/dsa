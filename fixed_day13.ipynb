{
 "cells": [
  {
   "cell_type": "code",
   "execution_count": null,
   "id": "b1e10d0c",
   "metadata": {},
   "outputs": [],
   "source": [
    "def rec(n):\n",
    "    if n==0:return\n",
    "    print(\"YourName\")\n",
    "    rec(n-1)\n",
    "n=int(input())\n",
    "rec(n)\n"
   ]
  }
 ],
 "metadata": {
  "language_info": {
   "name": "python"
  }
 },
 "nbformat": 4,
 "nbformat_minor": 5
}
