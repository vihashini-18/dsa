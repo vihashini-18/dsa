{
 "cells": [
  {
   "cell_type": "code",
   "execution_count": null,
   "id": "a96bd72b",
   "metadata": {},
   "outputs": [],
   "source": [
    "arr=list(map(int,input().split()))\n",
    "print(arr[::-1])\n"
   ]
  }
 ],
 "metadata": {
  "language_info": {
   "name": "python"
  }
 },
 "nbformat": 4,
 "nbformat_minor": 5
}
